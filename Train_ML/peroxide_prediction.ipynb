{
 "cells": [
  {
   "cell_type": "code",
   "execution_count": 43,
   "id": "c664dc96",
   "metadata": {},
   "outputs": [],
   "source": [
    "import pandas as pd\n",
    "import numpy as np\n",
    "import matplotlib.pyplot as plt\n",
    "import seaborn as sns\n",
    "from rdkit import Chem\n",
    "from rdkit.Chem import AllChem, DataStructs\n",
    "from rdkit.Chem import PandasTools\n",
    "\n",
    "PandasTools.RenderImagesInAllDataFrames(images=True)\n",
    "\n",
    "import pickle\n",
    "from sklearn.metrics import confusion_matrix, matthews_corrcoef, ConfusionMatrixDisplay\n",
    "from imblearn.ensemble import BalancedRandomForestClassifier\n",
    "\n",
    "\n",
    "plt.rcParams['xtick.labelsize'] = 16\n",
    "plt.rcParams['ytick.labelsize'] = 16 \n",
    "plt.rcParams['axes.labelsize'] = 16"
   ]
  },
  {
   "cell_type": "markdown",
   "id": "ffb7a1bf",
   "metadata": {},
   "source": [
    "# import data"
   ]
  },
  {
   "cell_type": "code",
   "execution_count": 2,
   "id": "b1adcd19",
   "metadata": {},
   "outputs": [],
   "source": [
    "def make_molobj(smi):\n",
    "    \"\"\" \"\"\"\n",
    "    molobj = Chem.MolFromSmiles(smi, sanitize=False)\n",
    "    Chem.SanitizeMol(molobj)\n",
    "    return molobj"
   ]
  },
  {
   "cell_type": "code",
   "execution_count": 3,
   "id": "6a25b6a9",
   "metadata": {},
   "outputs": [],
   "source": [
    "def ECFP(mol, radius=2, length=1024):\n",
    "    \"\"\" \"\"\"\n",
    "    arr = np.empty((0,),dtype=np.int8)\n",
    "    bi = {}\n",
    "    fp1 = AllChem.GetMorganFingerprintAsBitVect(mol, radius, nBits=length, bitInfo=bi)\n",
    "    DataStructs.ConvertToNumpyArray(fp1,arr)\n",
    "    return arr, bi"
   ]
  },
  {
   "cell_type": "code",
   "execution_count": 4,
   "id": "85ac790e",
   "metadata": {},
   "outputs": [],
   "source": [
    "def min_energy(strl):\n",
    "    split_list = strl[1:-1].split(',')\n",
    "    if split_list[0] == \"\":\n",
    "        return np.nan\n",
    "    return min([float(x) for x in strl[1:-1].split(',')])"
   ]
  },
  {
   "cell_type": "markdown",
   "id": "411d4634",
   "metadata": {},
   "source": [
    "## Read fragment energies"
   ]
  },
  {
   "cell_type": "code",
   "execution_count": 5,
   "id": "1f67fb8f",
   "metadata": {},
   "outputs": [],
   "source": [
    "reactant_min_energy = -73.44518"
   ]
  },
  {
   "cell_type": "code",
   "execution_count": 6,
   "id": "75626d57",
   "metadata": {},
   "outputs": [],
   "source": [
    "peroxide_fragments = pd.read_csv('data/peroxide_fragments_output.csv')\n",
    "peroxide_fragments['molobj'] = peroxide_fragments['frag_smiles'].apply(make_molobj)\n",
    "peroxide_fragments['min_enthalpy'] = peroxide_fragments['enthalpy'].apply(min_energy)\n",
    "peroxide_fragments['tmp'] = peroxide_fragments['molobj'].apply(ECFP)\n",
    "\n",
    "tmp_df = pd.DataFrame(peroxide_fragments.tmp.tolist(), columns=['ecfp_bits', 'bit_info'])\n",
    "peroxide_fragments = pd.concat([peroxide_fragments, tmp_df], axis=1)\n",
    "peroxide_fragments.drop(columns='tmp', inplace=True)\n",
    "\n",
    "new_conv = []\n",
    "for frag in peroxide_fragments.itertuples(index=False):\n",
    "    if  frag.nconfs == 0: # Can't make conformer\n",
    "        conv = False\n",
    "    elif frag.nconfs == frag.nconv_confs: # Perfekt conf\n",
    "        conv = True\n",
    "    elif frag.nconfs * 0.3 <= frag.nconv_confs: # decent\n",
    "        conv = True\n",
    "    else: # rest\n",
    "        conv = False\n",
    "\n",
    "    new_conv.append(conv)\n",
    "\n",
    "\n",
    "frag_output = peroxide_fragments.copy()\n",
    "frag_output.set_index('frag_smiles', inplace=True)\n",
    "frag_output_values = frag_output['min_enthalpy'].to_dict()\n",
    "    \n",
    "peroxide_fragments['new_conv'] = new_conv"
   ]
  },
  {
   "cell_type": "markdown",
   "id": "1148eefc",
   "metadata": {},
   "source": [
    "## Read reactions"
   ]
  },
  {
   "cell_type": "code",
   "execution_count": 7,
   "id": "99d74882",
   "metadata": {},
   "outputs": [],
   "source": [
    "peroxide_reactions = pd.read_csv(\"peroxide_reactions.csv\")\n",
    "peroxide_fragments_smiles = peroxide_reactions.psmi.str.split('.', expand=True)\n",
    "\n",
    "peroxide_fragments_smiles.columns = ['frag0', 'frag1', 'frag2']\n",
    "peroxide_reactions = pd.concat([peroxide_reactions, peroxide_fragments_smiles], axis=1)\n",
    "\n",
    "\n",
    "reac_enthalpies = np.empty(peroxide_reactions.shape[0])\n",
    "for reac in peroxide_reactions.itertuples():\n",
    "    reaction_enthalpy = 0.0\n",
    "    for fragid in [\"frag0\", \"frag1\", \"frag2\"]:\n",
    "        frag_smi = getattr(reac, fragid)\n",
    "        if pd.isnull(frag_smi):\n",
    "            continue\n",
    "        \n",
    "        enthalpy = frag_output_values[frag_smi]\n",
    "        if enthalpy == np.nan:\n",
    "            reaction_enthalpy =  np.nan\n",
    "            break\n",
    "        \n",
    "        reaction_enthalpy += frag_output_values[frag_smi]\n",
    "    reac_enthalpies[reac.Index] = reaction_enthalpy - reactant_min_energy\n",
    "\n",
    "peroxide_reactions['reaction_enthalpies'] = reac_enthalpies"
   ]
  },
  {
   "cell_type": "markdown",
   "id": "aa90ecd5",
   "metadata": {},
   "source": [
    "# import model"
   ]
  },
  {
   "cell_type": "code",
   "execution_count": 17,
   "id": "ac921268",
   "metadata": {},
   "outputs": [
    {
     "data": {
      "text/plain": [
       "BalancedRandomForestClassifier(n_jobs=-1, random_state=31)"
      ]
     },
     "execution_count": 17,
     "metadata": {},
     "output_type": "execute_result"
    }
   ],
   "source": [
    "balancedRF = pickle.load(open(\"models/balanced_convergence_clf.pkl\", 'rb'))\n",
    "balancedRF"
   ]
  },
  {
   "cell_type": "code",
   "execution_count": 18,
   "id": "d9d72ae1",
   "metadata": {},
   "outputs": [],
   "source": [
    "proba_cutoff = 0.5\n",
    "\n",
    "X = np.stack(peroxide_fragments['ecfp_bits'])\n",
    "peroxide_fragments['new_conv_predict'] = (balancedRF.predict_proba(X)[:,1] > proba_cutoff).astype(bool)"
   ]
  },
  {
   "cell_type": "code",
   "execution_count": 19,
   "id": "07950fbc",
   "metadata": {},
   "outputs": [
    {
     "name": "stdout",
     "output_type": "stream",
     "text": [
      "Conf. Matrix\n"
     ]
    },
    {
     "data": {
      "text/plain": [
       "array([[2077,  181],\n",
       "       [  40,  773]])"
      ]
     },
     "execution_count": 19,
     "metadata": {},
     "output_type": "execute_result"
    }
   ],
   "source": [
    "print(\"Conf. Matrix\")\n",
    "conf_matrix = confusion_matrix(peroxide_fragments['new_conv'], peroxide_fragments['new_conv_predict'])\n",
    "conf_matrix"
   ]
  },
  {
   "cell_type": "markdown",
   "id": "6762fb03",
   "metadata": {},
   "source": [
    "## How many do i run?"
   ]
  },
  {
   "cell_type": "markdown",
   "id": "80da0456",
   "metadata": {},
   "source": [
    "I have to run 954 (181 + 773) out of 3071 - that is 31% i have to run. The 181 is a waste of time (false positive).\n",
    "But more importantly I only miss 40. \n",
    "\n",
    "&nbsp;\n",
    "How are the distribution of the ones i miss?"
   ]
  },
  {
   "cell_type": "code",
   "execution_count": 20,
   "id": "c39c52cc",
   "metadata": {},
   "outputs": [],
   "source": [
    "df_false_negative_fragments = peroxide_fragments[(peroxide_fragments.new_conv == True) & (peroxide_fragments.new_conv_predict == False)]\n",
    "false_negative_fragments = df_false_negative_fragments.frag_smiles.to_list()"
   ]
  },
  {
   "cell_type": "code",
   "execution_count": 21,
   "id": "3af8799f",
   "metadata": {},
   "outputs": [],
   "source": [
    "mask_false_negative = (peroxide_reactions[['frag0', 'frag1', 'frag2']].isin(false_negative_fragments)).any(axis=1)"
   ]
  },
  {
   "cell_type": "code",
   "execution_count": 71,
   "id": "e7e8db75",
   "metadata": {},
   "outputs": [
    {
     "data": {
      "text/plain": [
       "[Text(0.5, 0, 'Reaction enthalpies / $\\\\Delta H_{rxn}$')]"
      ]
     },
     "execution_count": 71,
     "metadata": {},
     "output_type": "execute_result"
    },
    {
     "data": {
      "image/png": "[encoded data removed]",
      "text/plain": [
       "<Figure size 396x288 with 1 Axes>"
      ]
     },
     "metadata": {
      "needs_background": "light"
     },
     "output_type": "display_data"
    }
   ],
   "source": [
    "fig_reactions, ax_reactions = plt.subplots(figsize=(5.5,4))\n",
    "\n",
    "sns.histplot(peroxide_reactions.reaction_enthalpies.dropna(), bins=30, element='step', linewidth=2, alpha=.2, ax=ax_reactions, stat='probability', binrange=(-60, 280), label='All')\n",
    "sns.histplot(peroxide_reactions[mask_false_negative].reaction_enthalpies.dropna(), bins=30, element='step', linewidth=2, alpha=.2, ax=ax_reactions, stat='probability', color='red',  binrange=(-60, 280), label='Misclassified')\n",
    "ax_reactions.legend(fontsize=14, fancybox=False, frameon=False)\n",
    "ax_reactions.set(xlabel=r'Reaction enthalpies / $\\Delta H_{rxn}$')"
   ]
  },
  {
   "cell_type": "code",
   "execution_count": 42,
   "id": "0a914b98",
   "metadata": {},
   "outputs": [
    {
     "data": {
      "text/plain": [
       "<sklearn.metrics._plot.confusion_matrix.ConfusionMatrixDisplay at 0x7fecf8302c10>"
      ]
     },
     "execution_count": 42,
     "metadata": {},
     "output_type": "execute_result"
    },
    {
     "data": {
      "image/png": "[encoded data removed]",
      "text/plain": [
       "<Figure size 432x288 with 1 Axes>"
      ]
     },
     "metadata": {
      "needs_background": "light"
     },
     "output_type": "display_data"
    }
   ],
   "source": [
    "disp = ConfusionMatrixDisplay(confusion_matrix=conf_matrix)\n",
    "disp.plot(colorbar=False, cmap='Greys')"
   ]
  },
  {
   "cell_type": "code",
   "execution_count": 24,
   "id": "50ccf5d7",
   "metadata": {},
   "outputs": [
    {
     "data": {
      "text/plain": [
       "59.27432999999999"
      ]
     },
     "execution_count": 24,
     "metadata": {},
     "output_type": "execute_result"
    }
   ],
   "source": [
    "min(peroxide_reactions[mask_false_negative].reaction_enthalpies)"
   ]
  },
  {
   "cell_type": "markdown",
   "id": "e7d569ed",
   "metadata": {},
   "source": [
    "# Can I find the three reactions"
   ]
  },
  {
   "cell_type": "code",
   "execution_count": 30,
   "id": "37ad044d",
   "metadata": {},
   "outputs": [],
   "source": [
    "R37 = 865\n",
    "R38 = 866\n",
    "R69_1 = 6183\n",
    "R69_2 = 6184\n",
    "R53_1 = 3666"
   ]
  },
  {
   "cell_type": "code",
   "execution_count": 31,
   "id": "394a55f2",
   "metadata": {},
   "outputs": [
    {
     "data": {
      "image/png": "[encoded data removed]",
      "text/plain": [
       "<rdkit.Chem.rdchem.Mol at 0x7f61a9bcab20>"
      ]
     },
     "execution_count": 31,
     "metadata": {},
     "output_type": "execute_result"
    }
   ],
   "source": [
    "Chem.MolFromSmiles(peroxide_reactions.loc[R53_1].mapped_psmi, sanitize=False)"
   ]
  }
 ],
 "metadata": {
  "kernelspec": {
   "display_name": "take_step",
   "language": "python",
   "name": "take_step"
  },
  "language_info": {
   "codemirror_mode": {
    "name": "ipython",
    "version": 3
   },
   "file_extension": ".py",
   "mimetype": "text/x-python",
   "name": "python",
   "nbconvert_exporter": "python",
   "pygments_lexer": "ipython3",
   "version": "3.8.12"
  }
 },
 "nbformat": 4,
 "nbformat_minor": 5
}
