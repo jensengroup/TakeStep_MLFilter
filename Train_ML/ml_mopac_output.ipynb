{
 "cells": [
  {
   "cell_type": "code",
   "execution_count": 1,
   "id": "e2cda8ce",
   "metadata": {},
   "outputs": [],
   "source": [
    "import pandas as pd\n",
    "import numpy as np\n",
    "import matplotlib.pyplot as plt\n",
    "import seaborn as sns\n",
    "from joblib import Parallel, delayed\n",
    "\n",
    "\n",
    "from utils_functions import (\n",
    "    avg_scores,\n",
    "    train_and_score_model,\n",
    "    print_scores\n",
    ")\n",
    "\n",
    "\n",
    "from sklearn.model_selection import train_test_split, StratifiedKFold\n",
    "from sklearn.ensemble import RandomForestClassifier\n",
    "from sklearn.tree import DecisionTreeClassifier\n",
    "from sklearn.metrics import confusion_matrix, matthews_corrcoef, accuracy_score, make_scorer\n",
    "\n",
    "from imblearn.over_sampling import RandomOverSampler\n",
    "from imblearn.ensemble import BalancedRandomForestClassifier\n",
    "from imblearn.ensemble import EasyEnsembleClassifier\n",
    "\n",
    "import lightgbm as lgb\n",
    "\n",
    "plt.rcParams['xtick.labelsize'] = 16\n",
    "plt.rcParams['ytick.labelsize'] = 16 \n",
    "plt.rcParams['axes.labelsize'] = 16"
   ]
  },
  {
   "cell_type": "code",
   "execution_count": 2,
   "id": "40d2ba70",
   "metadata": {},
   "outputs": [],
   "source": [
    "from imblearn.over_sampling import SMOTE \n",
    "from train_models import lightgbm_w_oversampling, _load_data"
   ]
  },
  {
   "cell_type": "code",
   "execution_count": 3,
   "id": "cfa850e0",
   "metadata": {},
   "outputs": [
    {
     "name": "stdout",
     "output_type": "stream",
     "text": [
      "- # converged:  131385\n",
      "- # not converged fragments:  441481\n",
      "- ratio converged/total 0.229\n"
     ]
    }
   ],
   "source": [
    "X, y = _load_data()"
   ]
  },
  {
   "cell_type": "code",
   "execution_count": 4,
   "id": "dc346408",
   "metadata": {},
   "outputs": [],
   "source": [
    "with open(\"data/xtrain_smote.npy\", \"rb\") as xtrain:\n",
    "    Xres = np.load(xtrain).astype(np.int8)\n",
    "\n",
    "with open(\"data/train_smote.npy\", \"rb\") as ytrain:\n",
    "    yres = np.load(ytrain).astype(np.int8)"
   ]
  },
  {
   "cell_type": "code",
   "execution_count": 9,
   "id": "65f29475",
   "metadata": {},
   "outputs": [
    {
     "data": {
      "text/plain": [
       "(441481, 441481)"
      ]
     },
     "execution_count": 9,
     "metadata": {},
     "output_type": "execute_result"
    }
   ],
   "source": [
    "len(np.where(y_res == 0)[0]), len(np.where(y_res == 1)[0])"
   ]
  },
  {
   "cell_type": "code",
   "execution_count": 3,
   "id": "cd5cec02-f0b4-4f21-8387-f8415223b190",
   "metadata": {},
   "outputs": [
    {
     "data": {
      "text/plain": [
       "'2021.03.5'"
      ]
     },
     "execution_count": 3,
     "metadata": {},
     "output_type": "execute_result"
    }
   ],
   "source": [
    "import rdkit\n",
    "rdkit.__version__"
   ]
  },
  {
   "cell_type": "markdown",
   "id": "54604965",
   "metadata": {},
   "source": [
    "# Import data"
   ]
  },
  {
   "cell_type": "code",
   "execution_count": 10,
   "id": "71d32a3e-7872-4e01-abbb-d65c9b2c4537",
   "metadata": {},
   "outputs": [],
   "source": [
    "with open(\"data/xtrain.npy\", \"rb\") as ftrain:\n",
    "    X = np.load(ftrain).astype(np.int8)\n",
    "\n",
    "with open(\"data/ytrain.npy\", \"rb\") as ytrain:\n",
    "    y = np.load(ytrain).astype(np.int8)"
   ]
  },
  {
   "cell_type": "code",
   "execution_count": 11,
   "id": "ca8aa84a",
   "metadata": {},
   "outputs": [
    {
     "name": "stdout",
     "output_type": "stream",
     "text": [
      "- # converged:  131385\n",
      "- # not converged fragments:  441481\n",
      "- ratio converged/total 0.229\n"
     ]
    }
   ],
   "source": [
    "print(\"- # converged: \", y.sum())\n",
    "print(\"- # not converged fragments: \", len(np.where(y == 0)[0]))\n",
    "print(\"- ratio converged/total {:.3f}\".format( y.sum() / len(y)))"
   ]
  },
  {
   "cell_type": "markdown",
   "id": "72202ed8",
   "metadata": {},
   "source": [
    "# Train models - did fragment converge?\n",
    "\n",
    "1 - did converge.\n",
    "0 - didn't vonverge.\n",
    "\n",
    "- fp (pred 1, should be 0) we compute on fragments that don't converge.\n",
    "- fn (pred 0, should be 1) - these are bad. Eleminating frags that should not be."
   ]
  },
  {
   "cell_type": "code",
   "execution_count": 13,
   "id": "63f83172",
   "metadata": {},
   "outputs": [],
   "source": [
    "scores = {\n",
    "    \"MCC\": make_scorer(matthews_corrcoef),\n",
    "    \"ACC\": make_scorer(accuracy_score),\n",
    "    \"confusion_matrix\": make_scorer(confusion_matrix)\n",
    "}"
   ]
  },
  {
   "cell_type": "markdown",
   "id": "90c48133",
   "metadata": {},
   "source": [
    "## Tree "
   ]
  },
  {
   "cell_type": "code",
   "execution_count": 7,
   "id": "b1a3a962",
   "metadata": {},
   "outputs": [
    {
     "name": "stdout",
     "output_type": "stream",
     "text": [
      "RF(acc): 0.904 +/- 0.000\n",
      "RF(mcc): 0.723 +/- 0.000\n",
      "\n",
      "confusion_matrix mean\n",
      "[[72.7331  4.3323]\n",
      " [ 5.3087 17.6259]]\n",
      "\n",
      "confusion_matrix std\n",
      "[[0.026  0.0258]\n",
      " [0.0185 0.0187]]\n",
      "\n",
      "To compute: 21.96% of all\n",
      "missing: 23.15 % of converged\n"
     ]
    }
   ],
   "source": [
    "tree_clf = DecisionTreeClassifier(random_state=31)\n",
    "\n",
    "tree_model = train_and_score_model(tree_clf, X, y, scores)\n",
    "skf = StratifiedKFold(n_splits=2)\n",
    "tree_cv_scores = [tree_model(*data_idx) for data_idx in skf.split(X, y)]\n",
    "\n",
    "print_scores(tree_cv_scores)"
   ]
  },
  {
   "cell_type": "markdown",
   "id": "0f5fb1e1",
   "metadata": {},
   "source": [
    "## std RF"
   ]
  },
  {
   "cell_type": "code",
   "execution_count": 15,
   "id": "0ffb844a",
   "metadata": {},
   "outputs": [
    {
     "name": "stdout",
     "output_type": "stream",
     "text": [
      "RF(acc): 0.945 +/- 0.012\n",
      "RF(mcc): 0.891 +/- 0.025\n",
      "\n",
      "confusion_matrix mean\n",
      "[[46.9829  3.0171]\n",
      " [ 2.5069 47.4931]]\n",
      "\n",
      "confusion_matrix std\n",
      "[[0.5834 0.5833]\n",
      " [1.8204 1.8205]]\n",
      "\n",
      "To compute: 50.51% of all\n",
      "missing: 5.01 % of converged\n"
     ]
    }
   ],
   "source": [
    "clf_rf = RandomForestClassifier(random_state=31, n_jobs=-1, n_estimators=10)\n",
    "cv_rf_model = train_and_score_model(clf_rf, X_res, y_res, scores)\n",
    "\n",
    "skf = StratifiedKFold(n_splits=2)\n",
    "rf_cv_scores = [cv_rf_model(*data_idx) for data_idx in skf.split(X_res, y_res)]\n",
    "\n",
    "print_scores(rf_cv_scores)"
   ]
  },
  {
   "cell_type": "markdown",
   "id": "c32e09b0",
   "metadata": {},
   "source": [
    "##  RF w class weight (\"oversampling\")"
   ]
  },
  {
   "cell_type": "code",
   "execution_count": null,
   "id": "77d2b93e",
   "metadata": {},
   "outputs": [],
   "source": [
    "clf_rf_cw = RandomForestClassifier(random_state=31, class_weight={0: 1, 1: 1.5})\n",
    "cv_rf_cw_model = train_and_score_model(clf_rf_cw, X, y, scores)\n",
    "\n",
    "skf = StratifiedKFold(n_splits=n_splits)\n",
    "\n",
    "rf_cw_cv_scores = Parallel(n_jobs=2)(\n",
    "    delayed(cv_rf_cw_model)(*data_idx) for data_idx in skf.split(X, y)\n",
    ")\n",
    "\n",
    "print_scores(rf_cw_cv_scores)"
   ]
  },
  {
   "cell_type": "markdown",
   "id": "ee14dabb",
   "metadata": {},
   "source": [
    "## balanced RF - undersampling majority class"
   ]
  },
  {
   "cell_type": "code",
   "execution_count": 8,
   "id": "185f8a62",
   "metadata": {
    "scrolled": true
   },
   "outputs": [
    {
     "name": "stdout",
     "output_type": "stream",
     "text": [
      "RF(acc): 0.895 +/- 0.000\n",
      "RF(mcc): 0.741 +/- 0.000\n",
      "\n",
      "confusion_matrix mean\n",
      "[[68.4356  8.6298]\n",
      " [ 1.9029 21.0318]]\n",
      "\n",
      "confusion_matrix std\n",
      "[[0.0101 0.0103]\n",
      " [0.0019 0.0021]]\n",
      "\n",
      "To compute: 29.66% of all\n",
      "missing: 8.30 % of converged\n"
     ]
    }
   ],
   "source": [
    "clf_balanced_rf = BalancedRandomForestClassifier(random_state=31, n_jobs=-1)\n",
    "cv_balanced_rf_model = train_and_score_model(clf_balanced_rf, X, y, scores)\n",
    "\n",
    "skf = StratifiedKFold(n_splits=2)\n",
    "balanced_rf_cv_scores = [cv_balanced_rf_model(*data_idx) for data_idx in skf.split(X, y)]\n",
    "\n",
    "print_scores(balanced_rf_cv_scores)"
   ]
  },
  {
   "cell_type": "markdown",
   "id": "ff80d47b",
   "metadata": {},
   "source": [
    "## LightGBM"
   ]
  },
  {
   "cell_type": "code",
   "execution_count": 11,
   "id": "aa46f9f9-214d-4465-875a-bcdb46995045",
   "metadata": {},
   "outputs": [
    {
     "data": {
      "text/plain": [
       "(882962, 1024)"
      ]
     },
     "execution_count": 11,
     "metadata": {},
     "output_type": "execute_result"
    }
   ],
   "source": [
    "ros = RandomOverSampler(random_state=0)\n",
    "X_resampled, y_resampled = ros.fit_resample(X, y)\n",
    "X_resampled.shape"
   ]
  },
  {
   "cell_type": "code",
   "execution_count": 12,
   "id": "a61a6162",
   "metadata": {},
   "outputs": [
    {
     "data": {
      "text/plain": [
       "(441481, 441481)"
      ]
     },
     "execution_count": 12,
     "metadata": {},
     "output_type": "execute_result"
    }
   ],
   "source": [
    "len(np.where(y_resampled == 0)[0]), len(np.where(y_resampled == 1)[0])"
   ]
  },
  {
   "cell_type": "code",
   "execution_count": 16,
   "id": "2c50d29f-1184-435b-89fa-8bf7e2d2f16f",
   "metadata": {},
   "outputs": [
    {
     "ename": "NameError",
     "evalue": "name 'n_splits' is not defined",
     "output_type": "error",
     "traceback": [
      "\u001b[0;31m---------------------------------------------------------------------------\u001b[0m",
      "\u001b[0;31mNameError\u001b[0m                                 Traceback (most recent call last)",
      "\u001b[0;32m/tmp/ipykernel_13744/733782214.py\u001b[0m in \u001b[0;36m<module>\u001b[0;34m\u001b[0m\n\u001b[1;32m      2\u001b[0m \u001b[0mcv_lightgbm_model\u001b[0m \u001b[0;34m=\u001b[0m \u001b[0mtrain_and_score_model\u001b[0m\u001b[0;34m(\u001b[0m\u001b[0mlightgbm_model\u001b[0m\u001b[0;34m,\u001b[0m \u001b[0mX_res\u001b[0m\u001b[0;34m,\u001b[0m \u001b[0my_res\u001b[0m\u001b[0;34m,\u001b[0m \u001b[0mscores\u001b[0m\u001b[0;34m)\u001b[0m\u001b[0;34m\u001b[0m\u001b[0;34m\u001b[0m\u001b[0m\n\u001b[1;32m      3\u001b[0m \u001b[0;34m\u001b[0m\u001b[0m\n\u001b[0;32m----> 4\u001b[0;31m \u001b[0mskf\u001b[0m \u001b[0;34m=\u001b[0m \u001b[0mStratifiedKFold\u001b[0m\u001b[0;34m(\u001b[0m\u001b[0mn_splits\u001b[0m\u001b[0;34m=\u001b[0m\u001b[0mn_splits\u001b[0m\u001b[0;34m)\u001b[0m\u001b[0;34m\u001b[0m\u001b[0;34m\u001b[0m\u001b[0m\n\u001b[0m\u001b[1;32m      5\u001b[0m lightgbm_model_cv_scores = Parallel(n_jobs=1)( \n\u001b[1;32m      6\u001b[0m     \u001b[0mdelayed\u001b[0m\u001b[0;34m(\u001b[0m\u001b[0mcv_lightgbm_model\u001b[0m\u001b[0;34m)\u001b[0m\u001b[0;34m(\u001b[0m\u001b[0;34m*\u001b[0m\u001b[0mdata_idx\u001b[0m\u001b[0;34m)\u001b[0m \u001b[0;32mfor\u001b[0m \u001b[0mdata_idx\u001b[0m \u001b[0;32min\u001b[0m \u001b[0mskf\u001b[0m\u001b[0;34m.\u001b[0m\u001b[0msplit\u001b[0m\u001b[0;34m(\u001b[0m\u001b[0mX_resampled\u001b[0m\u001b[0;34m,\u001b[0m \u001b[0my_resampled\u001b[0m\u001b[0;34m)\u001b[0m\u001b[0;34m\u001b[0m\u001b[0;34m\u001b[0m\u001b[0m\n",
      "\u001b[0;31mNameError\u001b[0m: name 'n_splits' is not defined"
     ]
    }
   ],
   "source": [
    "lightgbm_model =  lgb.LGBMClassifier(objective='binary', random_state=31)\n",
    "cv_lightgbm_model = train_and_score_model(lightgbm_model, X_res, y_res, scores)\n",
    "\n",
    "skf = StratifiedKFold(n_splits=n_splits)\n",
    "lightgbm_model_cv_scores = Parallel(n_jobs=1)( \n",
    "    delayed(cv_lightgbm_model)(*data_idx) for data_idx in skf.split(X_resampled, y_resampled)\n",
    ")\n",
    "\n",
    "print_scores(lightgbm_model_cv_scores)"
   ]
  },
  {
   "cell_type": "markdown",
   "id": "808c97ce",
   "metadata": {},
   "source": [
    "# Change cut-off from <0.5 ."
   ]
  },
  {
   "cell_type": "code",
   "execution_count": 31,
   "id": "c6eecca2",
   "metadata": {},
   "outputs": [],
   "source": [
    "def stats_cut(pred_prob):\n",
    "    missing = []\n",
    "    to_compute = []\n",
    "    for cutoff in np.arange(0.0, 1.05, 0.05):\n",
    "        pred = (pred_prob[:,1] > cutoff).astype(int)\n",
    "        conf_matrix = confusion_matrix(ytest, pred)\n",
    "        to_compute.append(sum(conf_matrix[:,1]) / sum(sum(conf_matrix)))\n",
    "        \n",
    "        missing.append(conf_matrix[1,0] / sum(conf_matrix[1,:]))\n",
    "     \n",
    "    return to_compute, missing"
   ]
  },
  {
   "cell_type": "code",
   "execution_count": 32,
   "id": "a5222afd",
   "metadata": {},
   "outputs": [],
   "source": [
    "df_train, df_test = train_test_split(mopac_output_data, test_size=0.2, random_state=31)\n",
    "\n",
    "Xtrain, ytrain = np.stack(df_train['ecfp_bits']), df_train['converged'].to_numpy().astype(int)\n",
    "Xtest, ytest = np.stack(df_test['ecfp_bits']), df_test['converged'].to_numpy().astype(int)"
   ]
  },
  {
   "cell_type": "code",
   "execution_count": 33,
   "id": "c03f63e8",
   "metadata": {},
   "outputs": [],
   "source": [
    "# RF\n",
    "rf_cutoff = RandomForestClassifier(n_estimators=100, random_state=31, n_jobs=5)\n",
    "rf_cutoff.fit(Xtrain, ytrain)\n",
    "pred_proba_rf = rf_cutoff.predict_proba(Xtest) "
   ]
  },
  {
   "cell_type": "code",
   "execution_count": 34,
   "id": "1d630e1d",
   "metadata": {},
   "outputs": [],
   "source": [
    "# RF CW\n",
    "rf_cw_cutoff = RandomForestClassifier(n_estimators=100, n_jobs=5, random_state=31, class_weight={0: 1, 1: 1.5})\n",
    "rf_cw_cutoff.fit(Xtrain, ytrain)\n",
    "pred_proba_rf_cw = rf_cw_cutoff.predict_proba(Xtest) "
   ]
  },
  {
   "cell_type": "code",
   "execution_count": 35,
   "id": "d93e4882",
   "metadata": {},
   "outputs": [],
   "source": [
    "# Balanced RF\n",
    "balanced_rf_cutoff = BalancedRandomForestClassifier(n_estimators=100, random_state=31, n_jobs=5)\n",
    "balanced_rf_cutoff.fit(Xtrain, ytrain)\n",
    "pred_proba_balanced = balanced_rf_cutoff.predict_proba(Xtest) "
   ]
  },
  {
   "cell_type": "code",
   "execution_count": 36,
   "id": "79b38942",
   "metadata": {},
   "outputs": [
    {
     "data": {
      "text/plain": [
       "[Text(0.5, 0, 'Model predicted probability')]"
      ]
     },
     "execution_count": 36,
     "metadata": {},
     "output_type": "execute_result"
    },
    {
     "data": {
      "image/png": "[encoded data removed]",
      "text/plain": [
       "<Figure size 864x360 with 2 Axes>"
      ]
     },
     "metadata": {
      "needs_background": "light"
     },
     "output_type": "display_data"
    }
   ],
   "source": [
    "# Get statys\n",
    "rf_compute, rf_missing = stats_cut(pred_proba_rf)\n",
    "rfCW_compute, rfCW_missing = stats_cut(pred_proba_rf_cw)\n",
    "rfBalanced_compute, rfBalanced_missing = stats_cut(pred_proba_balanced)\n",
    "\n",
    "\n",
    "# plot\n",
    "fig_cutoff, ax_cutoff = plt.subplots(figsize=(12, 5), ncols=2)\n",
    "\n",
    "\n",
    "ax_cutoff[1].plot(np.arange(0, 1.05, 0.05), rf_missing, 'tab:green', label='RF')\n",
    "ax_cutoff[1].plot(np.arange(0, 1.05, 0.05), rf_compute, 'tab:green', linestyle='--') \n",
    "sns.histplot(pred_proba_rf[:,1], bins=20, stat='probability', ax=ax_cutoff[0], color='tab:green',  element=\"step\",  alpha=0.2, linewidth = 2.5)\n",
    "\n",
    "ax_cutoff[1].plot(np.arange(0, 1.05, 0.05), rfCW_missing, 'tab:orange', label='RF Class weight (1, 1.5)')\n",
    "ax_cutoff[1].plot(np.arange(0, 1.05, 0.05), rfCW_compute, 'tab:orange', linestyle='--')\n",
    "sns.histplot(pred_proba_rf_cw[:,1], bins=20, stat='probability', ax=ax_cutoff[0],   color='tab:orange', element=\"step\",  alpha=0.2, linewidth = 2.5)\n",
    "\n",
    "ax_cutoff[1].plot(np.arange(0, 1.05, 0.05), rfBalanced_missing, 'tab:blue', label='Balanced RF')\n",
    "ax_cutoff[1].plot(np.arange(0, 1.05, 0.05), rfBalanced_compute, 'tab:blue', linestyle='--')\n",
    "sns.histplot(pred_proba_balanced[:,1], bins=20, stat='probability', ax=ax_cutoff[0],   color='tab:blue', element=\"step\",  alpha=0.2, linewidth = 2.5)\n",
    "\n",
    "\n",
    "fig_cutoff.legend(fontsize=14, loc='upper center', ncol=3)\n",
    "ax_cutoff[1].set(xlabel='Cutoff value', ylabel='% To compute')\n",
    "ax_cutoff[0].set(xlabel='Model predicted probability')"
   ]
  },
  {
   "cell_type": "markdown",
   "id": "bcf71662",
   "metadata": {},
   "source": [
    "## Check very wrong componds"
   ]
  },
  {
   "cell_type": "code",
   "execution_count": 45,
   "id": "4765d5f2",
   "metadata": {},
   "outputs": [
    {
     "data": {
      "text/plain": [
       "array([[12028,  6236],\n",
       "       [  150,  8275]])"
      ]
     },
     "execution_count": 45,
     "metadata": {},
     "output_type": "execute_result"
    }
   ],
   "source": [
    "pred = (pred_proba_balanced[:,1] > 0.2).astype(int)\n",
    "confusion_matrix(ytest, pred)"
   ]
  },
  {
   "cell_type": "code",
   "execution_count": 46,
   "id": "c4c453fb",
   "metadata": {},
   "outputs": [
    {
     "data": {
      "text/plain": [
       "(array([  128,   239,   423,   531,   656,   934,   972,  1347,  1566,\n",
       "         1791,  1868,  1893,  1999,  2064,  2177,  2399,  2613,  2895,\n",
       "         2902,  3835,  4336,  4359,  4911,  5161,  5622,  5712,  6012,\n",
       "         6211,  6276,  6454,  6938,  7242,  7560,  7642,  7738,  7768,\n",
       "         7799,  8360,  8540,  8676,  8785,  9144,  9250,  9433,  9472,\n",
       "         9739,  9837, 10103, 10175, 10239, 10241, 10400, 10588, 10599,\n",
       "        10794, 11249, 11319, 11973, 12109, 12354, 12424, 12731, 12877,\n",
       "        13083, 13645, 13847, 14002, 14307, 14323, 14527, 14696, 14720,\n",
       "        14887, 15156, 15175, 15579, 15935, 16047, 16531, 16751, 16825,\n",
       "        16843, 16880, 16954, 17041, 17048, 17217, 17223, 17297, 17327,\n",
       "        17494, 17654, 17821, 17829, 17920, 17925, 18296, 18447, 18730,\n",
       "        18829, 19494, 19870, 20059, 20430, 20589, 20683, 20722, 20792,\n",
       "        20821, 20831, 20856, 20896, 20977, 21024, 21498, 21572, 21694,\n",
       "        22355, 22512, 22533, 22721, 22815, 22841, 22884, 23309, 23587,\n",
       "        23616, 23849, 23890, 23929, 23966, 24038, 24200, 24353, 24647,\n",
       "        24736, 24907, 24961, 24983, 24987, 25248, 25321, 25395, 25460,\n",
       "        25481, 25496, 25640, 26223, 26489, 26584]),)"
      ]
     },
     "execution_count": 46,
     "metadata": {},
     "output_type": "execute_result"
    }
   ],
   "source": [
    "very_wrong_idx = np.where((pred - ytest == -1).astype(int) == 1)\n",
    "very_wrong_idx"
   ]
  },
  {
   "cell_type": "code",
   "execution_count": 47,
   "id": "8ea6263c",
   "metadata": {},
   "outputs": [
    {
     "data": {
      "text/html": [
       "<div>\n",
       "<style scoped>\n",
       "    .dataframe tbody tr th:only-of-type {\n",
       "        vertical-align: middle;\n",
       "    }\n",
       "\n",
       "    .dataframe tbody tr th {\n",
       "        vertical-align: top;\n",
       "    }\n",
       "\n",
       "    .dataframe thead th {\n",
       "        text-align: right;\n",
       "    }\n",
       "</style>\n",
       "<table border=\"1\" class=\"dataframe\">\n",
       "  <thead>\n",
       "    <tr style=\"text-align: right;\">\n",
       "      <th></th>\n",
       "      <th>frag_smiles</th>\n",
       "      <th>nconfs</th>\n",
       "      <th>nconv_confs</th>\n",
       "      <th>enthalpy</th>\n",
       "      <th>converged</th>\n",
       "      <th>molobj</th>\n",
       "      <th>ecfp_bits</th>\n",
       "      <th>bit_info</th>\n",
       "      <th>new_conv</th>\n",
       "    </tr>\n",
       "  </thead>\n",
       "  <tbody>\n",
       "    <tr>\n",
       "      <th>104656</th>\n",
       "      <td>[H][C-]=C1C([H])([H])[O+](C([H])([H])[H])C1([H...</td>\n",
       "      <td>4</td>\n",
       "      <td>1</td>\n",
       "      <td>[118.40708]</td>\n",
       "      <td>True</td>\n",
       "      <td><img data-content=\"rdkit/molecule\" src=\"data:image/png;base64,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\" alt=\"Mol\"/></td>\n",
       "      <td>[0, 0, 0, 0, 0, 0, 0, 0, 0, 0, 0, 0, 0, 0, 0, ...</td>\n",
       "      <td>{24: ((6, 0),), 235: ((7, 1),), 257: ((0, 1),)...</td>\n",
       "      <td>False</td>\n",
       "    </tr>\n",
       "    <tr>\n",
       "      <th>34106</th>\n",
       "      <td>[H]OC1([C+]([H])[H])C([H])([H])[C-]([H])C1([H]...</td>\n",
       "      <td>7</td>\n",
       "      <td>1</td>\n",
       "      <td>[75.56295]</td>\n",
       "      <td>True</td>\n",
       "      <td><img data-content=\"rdkit/molecule\" src=\"data:image/png;base64,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\" alt=\"Mol\"/></td>\n",
       "      <td>[0, 0, 0, 0, 0, 0, 0, 0, 0, 0, 0, 0, 0, 0, 0, ...</td>\n",
       "      <td>{333: ((9, 0),), 381: ((3, 0),), 412: ((9, 1),...</td>\n",
       "      <td>False</td>\n",
       "    </tr>\n",
       "    <tr>\n",
       "      <th>13578</th>\n",
       "      <td>[H][N]1[C-]2[O+]([H])N=C(C([H])([H])[H])[C@@]2...</td>\n",
       "      <td>4</td>\n",
       "      <td>1</td>\n",
       "      <td>[104.01351]</td>\n",
       "      <td>True</td>\n",
       "      <td><img data-content=\"rdkit/molecule\" src=\"data:image/png;base64,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\" alt=\"Mol\"/></td>\n",
       "      <td>[0, 0, 0, 0, 0, 0, 0, 0, 0, 0, 0, 0, 0, 0, 0, ...</td>\n",
       "      <td>{24: ((3, 0),), 30: ((5, 2),), 88: ((11, 2),),...</td>\n",
       "      <td>False</td>\n",
       "    </tr>\n",
       "    <tr>\n",
       "      <th>11396</th>\n",
       "      <td>[H][O+]([H])[C@]12C([H])([H])[C@@]1([H])C2([H]...</td>\n",
       "      <td>4</td>\n",
       "      <td>4</td>\n",
       "      <td>[76.04902, 76.03851, 76.07955, 76.03945]</td>\n",
       "      <td>True</td>\n",
       "      <td><img data-content=\"rdkit/molecule\" src=\"data:image/png;base64,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\" alt=\"Mol\"/></td>\n",
       "      <td>[0, 0, 0, 0, 0, 0, 0, 0, 0, 0, 0, 0, 0, 0, 0, ...</td>\n",
       "      <td>{50: ((1, 1),), 361: ((3, 2),), 541: ((0, 1), ...</td>\n",
       "      <td>True</td>\n",
       "    </tr>\n",
       "    <tr>\n",
       "      <th>87583</th>\n",
       "      <td>[H]C1([H])[C-]2[C@@]3([H])[C@@]4([H])[C@]1([H]...</td>\n",
       "      <td>1</td>\n",
       "      <td>1</td>\n",
       "      <td>[144.88099]</td>\n",
       "      <td>True</td>\n",
       "      <td><img data-content=\"rdkit/molecule\" src=\"data:image/png;base64,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\" alt=\"Mol\"/></td>\n",
       "      <td>[0, 0, 0, 0, 0, 0, 0, 0, 0, 0, 0, 0, 0, 0, 0, ...</td>\n",
       "      <td>{333: ((3, 0),), 661: ((12, 2),), 738: ((4, 2)...</td>\n",
       "      <td>True</td>\n",
       "    </tr>\n",
       "    <tr>\n",
       "      <th>...</th>\n",
       "      <td>...</td>\n",
       "      <td>...</td>\n",
       "      <td>...</td>\n",
       "      <td>...</td>\n",
       "      <td>...</td>\n",
       "      <td>...</td>\n",
       "      <td>...</td>\n",
       "      <td>...</td>\n",
       "      <td>...</td>\n",
       "    </tr>\n",
       "    <tr>\n",
       "      <th>131975</th>\n",
       "      <td>[H][C-]1[C@]2([H])[C@@]3([H])[C@]4([H])[C@@]3(...</td>\n",
       "      <td>1</td>\n",
       "      <td>1</td>\n",
       "      <td>[173.59304]</td>\n",
       "      <td>True</td>\n",
       "      <td><img data-content=\"rdkit/molecule\" src=\"data:image/png;base64,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\" alt=\"Mol\"/></td>\n",
       "      <td>[0, 0, 0, 0, 0, 0, 0, 0, 0, 0, 0, 0, 0, 0, 0, ...</td>\n",
       "      <td>{129: ((6, 2),), 333: ((1, 0),), 800: ((1, 1),...</td>\n",
       "      <td>True</td>\n",
       "    </tr>\n",
       "    <tr>\n",
       "      <th>57298</th>\n",
       "      <td>[H]C1=N[C-]2[C@]1([H])O[N+]2([H])[H]</td>\n",
       "      <td>1</td>\n",
       "      <td>1</td>\n",
       "      <td>[123.74731]</td>\n",
       "      <td>True</td>\n",
       "      <td><img data-content=\"rdkit/molecule\" src=\"data:image/png;base64,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\" alt=\"Mol\"/></td>\n",
       "      <td>[0, 0, 0, 0, 0, 0, 0, 0, 0, 0, 0, 0, 0, 0, 0, ...</td>\n",
       "      <td>{176: ((0, 1),), 187: ((3, 1),), 235: ((4, 1),...</td>\n",
       "      <td>True</td>\n",
       "    </tr>\n",
       "    <tr>\n",
       "      <th>82629</th>\n",
       "      <td>[H]/[C-]=C1/C([H])=C([H])[O+]([H])C1([H])[H]</td>\n",
       "      <td>1</td>\n",
       "      <td>1</td>\n",
       "      <td>[119.6034]</td>\n",
       "      <td>True</td>\n",
       "      <td><img data-content=\"rdkit/molecule\" src=\"data:image/png;base64,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\" alt=\"Mol\"/></td>\n",
       "      <td>[0, 0, 0, 0, 0, 0, 0, 0, 0, 0, 0, 0, 0, 0, 0, ...</td>\n",
       "      <td>{24: ((7, 0),), 54: ((3, 1),), 176: ((4, 1), (...</td>\n",
       "      <td>True</td>\n",
       "    </tr>\n",
       "    <tr>\n",
       "      <th>47351</th>\n",
       "      <td>[H]C[O+]([H])[C+]([H])[C-]([O-])C([H])([H])[H]</td>\n",
       "      <td>13</td>\n",
       "      <td>1</td>\n",
       "      <td>[74.96297]</td>\n",
       "      <td>True</td>\n",
       "      <td><img data-content=\"rdkit/molecule\" src=\"data:image/png;base64,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\" alt=\"Mol\"/></td>\n",
       "      <td>[0, 0, 0, 0, 0, 0, 0, 0, 0, 0, 0, 0, 0, 0, 0, ...</td>\n",
       "      <td>{116: ((6, 2),), 324: ((6, 1),), 381: ((4, 0),...</td>\n",
       "      <td>False</td>\n",
       "    </tr>\n",
       "    <tr>\n",
       "      <th>103575</th>\n",
       "      <td>[H]C1=[O+]C([H])([H])C([H])([H])[C@]2([H])[C-]...</td>\n",
       "      <td>1</td>\n",
       "      <td>1</td>\n",
       "      <td>[84.39864]</td>\n",
       "      <td>True</td>\n",
       "      <td><img data-content=\"rdkit/molecule\" src=\"data:image/png;base64,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\" alt=\"Mol\"/></td>\n",
       "      <td>[0, 0, 0, 0, 0, 0, 0, 0, 0, 0, 0, 0, 0, 0, 0, ...</td>\n",
       "      <td>{74: ((13, 2),), 117: ((3, 2),), 176: ((0, 1),...</td>\n",
       "      <td>True</td>\n",
       "    </tr>\n",
       "  </tbody>\n",
       "</table>\n",
       "<p>150 rows × 9 columns</p>\n",
       "</div>"
      ],
      "text/plain": [
       "                                              frag_smiles  nconfs  \\\n",
       "104656  [H][C-]=C1C([H])([H])[O+](C([H])([H])[H])C1([H...       4   \n",
       "34106   [H]OC1([C+]([H])[H])C([H])([H])[C-]([H])C1([H]...       7   \n",
       "13578   [H][N]1[C-]2[O+]([H])N=C(C([H])([H])[H])[C@@]2...       4   \n",
       "11396   [H][O+]([H])[C@]12C([H])([H])[C@@]1([H])C2([H]...       4   \n",
       "87583   [H]C1([H])[C-]2[C@@]3([H])[C@@]4([H])[C@]1([H]...       1   \n",
       "...                                                   ...     ...   \n",
       "131975  [H][C-]1[C@]2([H])[C@@]3([H])[C@]4([H])[C@@]3(...       1   \n",
       "57298                [H]C1=N[C-]2[C@]1([H])O[N+]2([H])[H]       1   \n",
       "82629        [H]/[C-]=C1/C([H])=C([H])[O+]([H])C1([H])[H]       1   \n",
       "47351      [H]C[O+]([H])[C+]([H])[C-]([O-])C([H])([H])[H]      13   \n",
       "103575  [H]C1=[O+]C([H])([H])C([H])([H])[C@]2([H])[C-]...       1   \n",
       "\n",
       "        nconv_confs                                  enthalpy  converged  \\\n",
       "104656            1                               [118.40708]       True   \n",
       "34106             1                                [75.56295]       True   \n",
       "13578             1                               [104.01351]       True   \n",
       "11396             4  [76.04902, 76.03851, 76.07955, 76.03945]       True   \n",
       "87583             1                               [144.88099]       True   \n",
       "...             ...                                       ...        ...   \n",
       "131975            1                               [173.59304]       True   \n",
       "57298             1                               [123.74731]       True   \n",
       "82629             1                                [119.6034]       True   \n",
       "47351             1                                [74.96297]       True   \n",
       "103575            1                                [84.39864]       True   \n",
       "\n",
       "                                                   molobj  \\\n",
       "104656  <img data-content=\"rdkit/molecule\" src=\"data:i...   \n",
       "34106   <img data-content=\"rdkit/molecule\" src=\"data:i...   \n",
       "13578   <img data-content=\"rdkit/molecule\" src=\"data:i...   \n",
       "11396   <img data-content=\"rdkit/molecule\" src=\"data:i...   \n",
       "87583   <img data-content=\"rdkit/molecule\" src=\"data:i...   \n",
       "...                                                   ...   \n",
       "131975  <img data-content=\"rdkit/molecule\" src=\"data:i...   \n",
       "57298   <img data-content=\"rdkit/molecule\" src=\"data:i...   \n",
       "82629   <img data-content=\"rdkit/molecule\" src=\"data:i...   \n",
       "47351   <img data-content=\"rdkit/molecule\" src=\"data:i...   \n",
       "103575  <img data-content=\"rdkit/molecule\" src=\"data:i...   \n",
       "\n",
       "                                                ecfp_bits  \\\n",
       "104656  [0, 0, 0, 0, 0, 0, 0, 0, 0, 0, 0, 0, 0, 0, 0, ...   \n",
       "34106   [0, 0, 0, 0, 0, 0, 0, 0, 0, 0, 0, 0, 0, 0, 0, ...   \n",
       "13578   [0, 0, 0, 0, 0, 0, 0, 0, 0, 0, 0, 0, 0, 0, 0, ...   \n",
       "11396   [0, 0, 0, 0, 0, 0, 0, 0, 0, 0, 0, 0, 0, 0, 0, ...   \n",
       "87583   [0, 0, 0, 0, 0, 0, 0, 0, 0, 0, 0, 0, 0, 0, 0, ...   \n",
       "...                                                   ...   \n",
       "131975  [0, 0, 0, 0, 0, 0, 0, 0, 0, 0, 0, 0, 0, 0, 0, ...   \n",
       "57298   [0, 0, 0, 0, 0, 0, 0, 0, 0, 0, 0, 0, 0, 0, 0, ...   \n",
       "82629   [0, 0, 0, 0, 0, 0, 0, 0, 0, 0, 0, 0, 0, 0, 0, ...   \n",
       "47351   [0, 0, 0, 0, 0, 0, 0, 0, 0, 0, 0, 0, 0, 0, 0, ...   \n",
       "103575  [0, 0, 0, 0, 0, 0, 0, 0, 0, 0, 0, 0, 0, 0, 0, ...   \n",
       "\n",
       "                                                 bit_info  new_conv  \n",
       "104656  {24: ((6, 0),), 235: ((7, 1),), 257: ((0, 1),)...     False  \n",
       "34106   {333: ((9, 0),), 381: ((3, 0),), 412: ((9, 1),...     False  \n",
       "13578   {24: ((3, 0),), 30: ((5, 2),), 88: ((11, 2),),...     False  \n",
       "11396   {50: ((1, 1),), 361: ((3, 2),), 541: ((0, 1), ...      True  \n",
       "87583   {333: ((3, 0),), 661: ((12, 2),), 738: ((4, 2)...      True  \n",
       "...                                                   ...       ...  \n",
       "131975  {129: ((6, 2),), 333: ((1, 0),), 800: ((1, 1),...      True  \n",
       "57298   {176: ((0, 1),), 187: ((3, 1),), 235: ((4, 1),...      True  \n",
       "82629   {24: ((7, 0),), 54: ((3, 1),), 176: ((4, 1), (...      True  \n",
       "47351   {116: ((6, 2),), 324: ((6, 1),), 381: ((4, 0),...     False  \n",
       "103575  {74: ((13, 2),), 117: ((3, 2),), 176: ((0, 1),...      True  \n",
       "\n",
       "[150 rows x 9 columns]"
      ]
     },
     "execution_count": 47,
     "metadata": {},
     "output_type": "execute_result"
    }
   ],
   "source": [
    "very_wrong_mols = df_test.iloc[very_wrong_idx]\n",
    "very_wrong_mols"
   ]
  },
  {
   "cell_type": "code",
   "execution_count": 48,
   "id": "b8601996",
   "metadata": {},
   "outputs": [
    {
     "data": {
      "text/plain": [
       "array([0, 0, 0, 0, 0, 0, 0, 0, 0, 0, 0, 0, 0, 0, 0, 0, 0, 0, 0, 0, 0, 0,\n",
       "       0, 0, 0, 0, 0, 0, 0, 0, 0, 0, 0, 0, 0, 0, 0, 0, 0, 0, 0, 0, 0, 0,\n",
       "       0, 0, 0, 0, 0, 0, 0, 0, 0, 0, 0, 0, 0, 0, 0, 0, 0, 0, 0, 0, 0, 0,\n",
       "       0, 0, 0, 0, 0, 0, 0, 0, 0, 0, 0, 0, 0, 0, 0, 0, 0, 0, 0, 0, 0, 0,\n",
       "       0, 0, 0, 0, 0, 0, 0, 0, 0, 0, 0, 0, 0, 0, 0, 0, 0, 0, 0, 0, 0, 0,\n",
       "       0, 0, 0, 0, 0, 0, 0, 0, 0, 0, 0, 0, 0, 0, 0, 0, 0, 0, 0, 0, 0, 0,\n",
       "       0, 0, 0, 0, 0, 0, 0, 0, 0, 0, 0, 0, 0, 0, 0, 0, 0, 0])"
      ]
     },
     "execution_count": 48,
     "metadata": {},
     "output_type": "execute_result"
    }
   ],
   "source": [
    "vX = np.zeros((len(very_wrong_mols), len(very_wrong_mols.iloc[0].ecfp_bits)))\n",
    "for i, bits in enumerate(very_wrong_mols.ecfp_bits):\n",
    "    vX[i] = bits\n",
    "\n",
    "balanced_rf_cutoff.predict(vX)"
   ]
  },
  {
   "cell_type": "markdown",
   "id": "54004a5b",
   "metadata": {},
   "source": [
    "The model is very certian that the 55 mols won't converge. However, they did. \n",
    "How do the ones that the model miss correlate with reaction energy."
   ]
  },
  {
   "cell_type": "markdown",
   "id": "b824a2c2",
   "metadata": {},
   "source": [
    "# Train Model"
   ]
  },
  {
   "cell_type": "code",
   "execution_count": 6,
   "id": "6d11a55e",
   "metadata": {},
   "outputs": [],
   "source": [
    "import pickle"
   ]
  },
  {
   "cell_type": "code",
   "execution_count": 8,
   "id": "d40a2874",
   "metadata": {},
   "outputs": [
    {
     "data": {
      "text/plain": [
       "BalancedRandomForestClassifier(n_jobs=-1, random_state=31)"
      ]
     },
     "execution_count": 8,
     "metadata": {},
     "output_type": "execute_result"
    }
   ],
   "source": [
    "true_model = BalancedRandomForestClassifier(random_state=31, n_jobs=-1)\n",
    "true_model.fit(X, y)"
   ]
  },
  {
   "cell_type": "code",
   "execution_count": 9,
   "id": "1f0d20fe",
   "metadata": {},
   "outputs": [],
   "source": [
    "pickle.dump(true_model, open(\"models/balanced_convergence_clf.pkl\", 'wb'))"
   ]
  },
  {
   "cell_type": "code",
   "execution_count": 5,
   "id": "9e064189",
   "metadata": {},
   "outputs": [
    {
     "name": "stderr",
     "output_type": "stream",
     "text": [
      "[Parallel(n_jobs=-1)]: Using backend ThreadingBackend with 8 concurrent workers.\n"
     ]
    },
    {
     "name": "stdout",
     "output_type": "stream",
     "text": [
      "building tree 1 of 100\n",
      "building tree 2 of 100\n",
      "building tree 3 of 100building tree 4 of 100\n",
      "\n",
      "building tree 5 of 100\n",
      "building tree 6 of 100\n",
      "building tree 7 of 100building tree 8 of 100\n",
      "\n",
      "building tree 9 of 100\n",
      "building tree 10 of 100\n",
      "building tree 11 of 100\n"
     ]
    },
    {
     "name": "stderr",
     "output_type": "stream",
     "text": [
      "[Parallel(n_jobs=-1)]: Done   2 tasks      | elapsed:   39.3s\n"
     ]
    },
    {
     "name": "stdout",
     "output_type": "stream",
     "text": [
      "building tree 12 of 100\n",
      "building tree 13 of 100\n",
      "building tree 14 of 100\n",
      "building tree 15 of 100\n",
      "building tree 16 of 100\n",
      "building tree 17 of 100\n",
      "building tree 18 of 100\n",
      "building tree 19 of 100\n",
      "building tree 20 of 100\n",
      "building tree 21 of 100\n",
      "building tree 22 of 100\n",
      "building tree 23 of 100\n",
      "building tree 24 of 100\n",
      "building tree 25 of 100\n",
      "building tree 26 of 100\n",
      "building tree 27 of 100\n",
      "building tree 28 of 100\n",
      "building tree 29 of 100\n",
      "building tree 30 of 100\n",
      "building tree 31 of 100\n",
      "building tree 32 of 100\n",
      "building tree 33 of 100\n",
      "building tree 34 of 100\n",
      "building tree 35 of 100\n",
      "building tree 36 of 100\n",
      "building tree 37 of 100\n",
      "building tree 38 of 100\n",
      "building tree 39 of 100\n",
      "building tree 40 of 100\n",
      "building tree 41 of 100\n",
      "building tree 42 of 100\n",
      "building tree 43 of 100\n",
      "building tree 44 of 100\n",
      "building tree 45 of 100\n",
      "building tree 46 of 100\n",
      "building tree 47 of 100\n",
      "building tree 48 of 100\n",
      "building tree 49 of 100\n",
      "building tree 50 of 100\n",
      "building tree 51 of 100\n",
      "building tree 52 of 100\n",
      "building tree 53 of 100\n",
      "building tree 54 of 100\n",
      "building tree 55 of 100\n",
      "building tree 56 of 100\n",
      "building tree 57 of 100\n",
      "building tree 58 of 100\n",
      "building tree 59 of 100\n",
      "building tree 60 of 100\n",
      "building tree 61 of 100\n",
      "building tree 62 of 100\n",
      "building tree 63 of 100\n",
      "building tree 64 of 100\n"
     ]
    },
    {
     "name": "stderr",
     "output_type": "stream",
     "text": [
      "[Parallel(n_jobs=-1)]: Done  56 tasks      | elapsed:  5.0min\n"
     ]
    },
    {
     "name": "stdout",
     "output_type": "stream",
     "text": [
      "building tree 65 of 100\n",
      "building tree 66 of 100\n",
      "building tree 67 of 100\n",
      "building tree 68 of 100\n",
      "building tree 69 of 100\n",
      "building tree 70 of 100\n",
      "building tree 71 of 100\n",
      "building tree 72 of 100\n",
      "building tree 73 of 100\n",
      "building tree 74 of 100\n",
      "building tree 75 of 100\n",
      "building tree 76 of 100\n",
      "building tree 77 of 100\n",
      "building tree 78 of 100\n",
      "building tree 79 of 100\n",
      "building tree 80 of 100\n",
      "building tree 81 of 100\n",
      "building tree 82 of 100\n",
      "building tree 83 of 100\n",
      "building tree 84 of 100\n",
      "building tree 85 of 100\n",
      "building tree 86 of 100\n",
      "building tree 87 of 100\n",
      "building tree 88 of 100\n",
      "building tree 89 of 100\n",
      "building tree 90 of 100\n",
      "building tree 91 of 100\n",
      "building tree 92 of 100\n",
      "building tree 93 of 100\n",
      "building tree 94 of 100\n",
      "building tree 95 of 100\n",
      "building tree 96 of 100\n",
      "building tree 97 of 100\n",
      "building tree 98 of 100\n",
      "building tree 99 of 100\n",
      "building tree 100 of 100\n"
     ]
    },
    {
     "name": "stderr",
     "output_type": "stream",
     "text": [
      "[Parallel(n_jobs=-1)]: Done 100 out of 100 | elapsed:  8.6min finished\n"
     ]
    },
    {
     "ename": "NameError",
     "evalue": "name 'pickle' is not defined",
     "output_type": "error",
     "traceback": [
      "\u001b[0;31m---------------------------------------------------------------------------\u001b[0m",
      "\u001b[0;31mNameError\u001b[0m                                 Traceback (most recent call last)",
      "\u001b[0;32m/tmp/ipykernel_19483/2942521146.py\u001b[0m in \u001b[0;36m<module>\u001b[0;34m\u001b[0m\n\u001b[1;32m      1\u001b[0m \u001b[0mclf_rf\u001b[0m \u001b[0;34m=\u001b[0m \u001b[0mRandomForestClassifier\u001b[0m\u001b[0;34m(\u001b[0m\u001b[0mrandom_state\u001b[0m\u001b[0;34m=\u001b[0m\u001b[0;36m31\u001b[0m\u001b[0;34m,\u001b[0m \u001b[0mn_jobs\u001b[0m\u001b[0;34m=\u001b[0m\u001b[0;34m-\u001b[0m\u001b[0;36m1\u001b[0m\u001b[0;34m,\u001b[0m \u001b[0mverbose\u001b[0m\u001b[0;34m=\u001b[0m\u001b[0;36m5\u001b[0m\u001b[0;34m)\u001b[0m\u001b[0;34m\u001b[0m\u001b[0;34m\u001b[0m\u001b[0m\n\u001b[1;32m      2\u001b[0m \u001b[0mclf_rf\u001b[0m\u001b[0;34m.\u001b[0m\u001b[0mfit\u001b[0m\u001b[0;34m(\u001b[0m\u001b[0mXres\u001b[0m\u001b[0;34m,\u001b[0m \u001b[0myres\u001b[0m\u001b[0;34m)\u001b[0m\u001b[0;34m\u001b[0m\u001b[0;34m\u001b[0m\u001b[0m\n\u001b[0;32m----> 3\u001b[0;31m \u001b[0mpickle\u001b[0m\u001b[0;34m.\u001b[0m\u001b[0mdump\u001b[0m\u001b[0;34m(\u001b[0m\u001b[0mtrue_model\u001b[0m\u001b[0;34m,\u001b[0m \u001b[0mopen\u001b[0m\u001b[0;34m(\u001b[0m\u001b[0;34m\"models/rd_smote_convergence_clf.pkl\"\u001b[0m\u001b[0;34m,\u001b[0m \u001b[0;34m'wb'\u001b[0m\u001b[0;34m)\u001b[0m\u001b[0;34m)\u001b[0m\u001b[0;34m\u001b[0m\u001b[0;34m\u001b[0m\u001b[0m\n\u001b[0m\u001b[1;32m      4\u001b[0m \u001b[0;31m#cv_rf_model = train_and_score_model(clf_rf, X_res, y_res, scores)\u001b[0m\u001b[0;34m\u001b[0m\u001b[0;34m\u001b[0m\u001b[0;34m\u001b[0m\u001b[0m\n",
      "\u001b[0;31mNameError\u001b[0m: name 'pickle' is not defined"
     ]
    }
   ],
   "source": [
    "clf_rf = RandomForestClassifier(random_state=31, n_jobs=-1, verbose=5)\n",
    "clf_rf.fit(Xres, yres)\n",
    "pickle.dump(clf_rf, open(\"models/rd_smote_convergence_clf.pkl\", 'wb'))\n",
    "#cv_rf_model = train_and_score_model(clf_rf, X_res, y_res, scores)"
   ]
  },
  {
   "cell_type": "code",
   "execution_count": 7,
   "id": "765d8486",
   "metadata": {},
   "outputs": [],
   "source": [
    "pickle.dump(clf_rf, open(\"models/rf_smote_convergence_clf.pkl\", 'wb'))"
   ]
  },
  {
   "cell_type": "code",
   "execution_count": 10,
   "id": "1e6a4324",
   "metadata": {},
   "outputs": [],
   "source": [
    "clf_rf.fit(Xres, yres)\n",
    "pickle.dump(true_model, open(\"models/rd_smote_convergence_clf.pkl\", 'wb'))"
   ]
  },
  {
   "cell_type": "markdown",
   "id": "6dccaf88",
   "metadata": {},
   "source": [
    "# Explain Bits"
   ]
  },
  {
   "cell_type": "code",
   "execution_count": 1,
   "id": "1f25fceb",
   "metadata": {},
   "outputs": [],
   "source": [
    "#Chem.Draw.DrawMorganBit(test_mol.molobj, 1986, test_mol.bit_info, useSVG=True)"
   ]
  },
  {
   "cell_type": "code",
   "execution_count": null,
   "id": "01ca7e07",
   "metadata": {},
   "outputs": [],
   "source": []
  },
  {
   "cell_type": "code",
   "execution_count": null,
   "id": "475ea3d5",
   "metadata": {},
   "outputs": [],
   "source": [
    "# how does theese correlate with the reaction energy. \n",
    "\n",
    "# TODO: I need to compute the reactant energy the reactions i have used.\n",
    "# Try just one desiccion tree."
   ]
  }
 ],
 "metadata": {
  "kernelspec": {
   "display_name": "Python 3.9.4 64-bit ('take_step': conda)",
   "language": "python",
   "name": "python394jvsc74a57bd0b55a61a841a16dee8b716bd918c55668e21bfd8b62a87ea6733a830e90a84854"
  },
  "language_info": {
   "codemirror_mode": {
    "name": "ipython",
    "version": 3
   },
   "file_extension": ".py",
   "mimetype": "text/x-python",
   "name": "python",
   "nbconvert_exporter": "python",
   "pygments_lexer": "ipython3",
   "version": "3.8.12"
  }
 },
 "nbformat": 4,
 "nbformat_minor": 5
}
